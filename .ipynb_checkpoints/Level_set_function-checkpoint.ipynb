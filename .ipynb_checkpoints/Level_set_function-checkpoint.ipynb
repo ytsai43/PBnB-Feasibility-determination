{
 "cells": [
  {
   "cell_type": "code",
   "execution_count": 1,
   "metadata": {
    "collapsed": true
   },
   "outputs": [],
   "source": [
    "import numpy as np\n",
    "import math\n",
    "def Sinusoidal(x):  \n",
    "    dim = len(x)\n",
    "    first_term = 1\n",
    "    second_term = 1\n",
    "    for i in range(dim):\n",
    "        first_term *= math.sin(math.pi*float(x[i])/180)\n",
    "        second_term *= math.sin(math.pi*float(x[i])/36) \n",
    "    fx = -2.5*first_term - second_term\n",
    "    if fx <= -2.3:\n",
    "        distant_con1 = -2.3-(fx)  #positive value; feasible\n",
    "    else:\n",
    "        distant_con1 = (-2.3)-fx  #negtive value; Infeasible\n",
    "\n",
    "    return [fx,np.array([distant_con1])]\n"
   ]
  },
  {
   "cell_type": "code",
   "execution_count": null,
   "metadata": {
    "collapsed": true
   },
   "outputs": [],
   "source": []
  },
  {
   "cell_type": "code",
   "execution_count": null,
   "metadata": {
    "collapsed": true
   },
   "outputs": [],
   "source": []
  }
 ],
 "metadata": {
  "kernelspec": {
   "display_name": "Python 3",
   "language": "python",
   "name": "python3"
  },
  "language_info": {
   "codemirror_mode": {
    "name": "ipython",
    "version": 3
   },
   "file_extension": ".py",
   "mimetype": "text/x-python",
   "name": "python",
   "nbconvert_exporter": "python",
   "pygments_lexer": "ipython3",
   "version": "3.6.1"
  }
 },
 "nbformat": 4,
 "nbformat_minor": 2
}
